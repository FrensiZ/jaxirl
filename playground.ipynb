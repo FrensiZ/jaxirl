{
 "cells": [
  {
   "cell_type": "markdown",
   "metadata": {},
   "source": [
    "#### Playground to understand the code"
   ]
  },
  {
   "cell_type": "code",
   "execution_count": 7,
   "metadata": {},
   "outputs": [],
   "source": [
    "import jax\n",
    "import jax.numpy as jnp\n",
    "import numpy as np\n",
    "import gym\n",
    "import optax\n",
    "from jax import grad, jit, vmap\n",
    "from jax import random\n",
    "from functools import partial\n",
    "import haiku as hk\n"
   ]
  },
  {
   "cell_type": "code",
   "execution_count": 29,
   "metadata": {},
   "outputs": [
    {
     "ename": "TypeError",
     "evalue": "actor_fn() takes 1 positional argument but 2 were given",
     "output_type": "error",
     "traceback": [
      "\u001b[0;31m---------------------------------------------------------------------------\u001b[0m",
      "\u001b[0;31mTypeError\u001b[0m                                 Traceback (most recent call last)",
      "Cell \u001b[0;32mIn[29], line 34\u001b[0m\n\u001b[1;32m     31\u001b[0m critic_params \u001b[38;5;241m=\u001b[39m critic\u001b[38;5;241m.\u001b[39minit(rng, x)\n\u001b[1;32m     33\u001b[0m \u001b[38;5;66;03m# Forward pass\u001b[39;00m\n\u001b[0;32m---> 34\u001b[0m actor_output \u001b[38;5;241m=\u001b[39m \u001b[43mactor\u001b[49m\u001b[38;5;241;43m.\u001b[39;49m\u001b[43mapply\u001b[49m\u001b[43m(\u001b[49m\u001b[43mactor_params\u001b[49m\u001b[43m,\u001b[49m\u001b[43m \u001b[49m\u001b[38;5;28;43;01mNone\u001b[39;49;00m\u001b[43m,\u001b[49m\u001b[43m \u001b[49m\u001b[43mrng\u001b[49m\u001b[43m,\u001b[49m\u001b[43m \u001b[49m\u001b[43mx\u001b[49m\u001b[43m)\u001b[49m\n\u001b[1;32m     35\u001b[0m critic_output \u001b[38;5;241m=\u001b[39m critic\u001b[38;5;241m.\u001b[39mapply(critic_params, \u001b[38;5;28;01mNone\u001b[39;00m, rng, x)\n\u001b[1;32m     37\u001b[0m \u001b[38;5;28mprint\u001b[39m(\u001b[38;5;124m\"\u001b[39m\u001b[38;5;124mActor output:\u001b[39m\u001b[38;5;124m\"\u001b[39m, actor_output)\n",
      "File \u001b[0;32m~/Library/Python/3.9/lib/python/site-packages/haiku/_src/transform.py:183\u001b[0m, in \u001b[0;36mwithout_state.<locals>.apply_fn\u001b[0;34m(params, *args, **kwargs)\u001b[0m\n\u001b[1;32m    176\u001b[0m \u001b[38;5;28;01mif\u001b[39;00m \u001b[38;5;124m\"\u001b[39m\u001b[38;5;124mstate\u001b[39m\u001b[38;5;124m\"\u001b[39m \u001b[38;5;129;01min\u001b[39;00m kwargs:\n\u001b[1;32m    177\u001b[0m   \u001b[38;5;28;01mraise\u001b[39;00m \u001b[38;5;167;01mTypeError\u001b[39;00m(\n\u001b[1;32m    178\u001b[0m       \u001b[38;5;124m\"\u001b[39m\u001b[38;5;124mHaiku transform adds three arguments (params, state, rng) to apply. \u001b[39m\u001b[38;5;124m\"\u001b[39m\n\u001b[1;32m    179\u001b[0m       \u001b[38;5;124m\"\u001b[39m\u001b[38;5;124mIf the functions you are transforming use the same names you must \u001b[39m\u001b[38;5;124m\"\u001b[39m\n\u001b[1;32m    180\u001b[0m       \u001b[38;5;124m\"\u001b[39m\u001b[38;5;124mpass them positionally (e.g. `f.apply(.., my_state)` and not by \u001b[39m\u001b[38;5;124m\"\u001b[39m\n\u001b[1;32m    181\u001b[0m       \u001b[38;5;124m\"\u001b[39m\u001b[38;5;124mname (e.g. `f.apply(.., state=my_state)`)\u001b[39m\u001b[38;5;124m\"\u001b[39m)\n\u001b[0;32m--> 183\u001b[0m out, state \u001b[38;5;241m=\u001b[39m \u001b[43mf\u001b[49m\u001b[38;5;241;43m.\u001b[39;49m\u001b[43mapply\u001b[49m\u001b[43m(\u001b[49m\u001b[43mparams\u001b[49m\u001b[43m,\u001b[49m\u001b[43m \u001b[49m\u001b[38;5;28;43;01mNone\u001b[39;49;00m\u001b[43m,\u001b[49m\u001b[43m \u001b[49m\u001b[38;5;241;43m*\u001b[39;49m\u001b[43margs\u001b[49m\u001b[43m,\u001b[49m\u001b[43m \u001b[49m\u001b[38;5;241;43m*\u001b[39;49m\u001b[38;5;241;43m*\u001b[39;49m\u001b[43mkwargs\u001b[49m\u001b[43m)\u001b[49m\n\u001b[1;32m    184\u001b[0m \u001b[38;5;28;01mif\u001b[39;00m state:\n\u001b[1;32m    185\u001b[0m   \u001b[38;5;28;01mraise\u001b[39;00m base\u001b[38;5;241m.\u001b[39mNonEmptyStateError(\n\u001b[1;32m    186\u001b[0m       \u001b[38;5;124m\"\u001b[39m\u001b[38;5;124mIf your transformed function uses `hk.\u001b[39m\u001b[38;5;124m{\u001b[39m\u001b[38;5;124mget,set}_state` then use \u001b[39m\u001b[38;5;124m\"\u001b[39m\n\u001b[1;32m    187\u001b[0m       \u001b[38;5;124m\"\u001b[39m\u001b[38;5;124m`hk.transform_with_state`.\u001b[39m\u001b[38;5;124m\"\u001b[39m)\n",
      "File \u001b[0;32m~/Library/Python/3.9/lib/python/site-packages/haiku/_src/transform.py:456\u001b[0m, in \u001b[0;36mtransform_with_state.<locals>.apply_fn\u001b[0;34m(params, state, rng, *args, **kwargs)\u001b[0m\n\u001b[1;32m    454\u001b[0m \u001b[38;5;28;01mwith\u001b[39;00m base\u001b[38;5;241m.\u001b[39mnew_context(params\u001b[38;5;241m=\u001b[39mparams, state\u001b[38;5;241m=\u001b[39mstate, rng\u001b[38;5;241m=\u001b[39mrng) \u001b[38;5;28;01mas\u001b[39;00m ctx:\n\u001b[1;32m    455\u001b[0m   \u001b[38;5;28;01mtry\u001b[39;00m:\n\u001b[0;32m--> 456\u001b[0m     out \u001b[38;5;241m=\u001b[39m \u001b[43mf\u001b[49m\u001b[43m(\u001b[49m\u001b[38;5;241;43m*\u001b[39;49m\u001b[43margs\u001b[49m\u001b[43m,\u001b[49m\u001b[43m \u001b[49m\u001b[38;5;241;43m*\u001b[39;49m\u001b[38;5;241;43m*\u001b[39;49m\u001b[43mkwargs\u001b[49m\u001b[43m)\u001b[49m\n\u001b[1;32m    457\u001b[0m   \u001b[38;5;28;01mexcept\u001b[39;00m jax\u001b[38;5;241m.\u001b[39merrors\u001b[38;5;241m.\u001b[39mUnexpectedTracerError \u001b[38;5;28;01mas\u001b[39;00m e:\n\u001b[1;32m    458\u001b[0m     \u001b[38;5;28;01mraise\u001b[39;00m jax\u001b[38;5;241m.\u001b[39merrors\u001b[38;5;241m.\u001b[39mUnexpectedTracerError(unexpected_tracer_hint) \u001b[38;5;28;01mfrom\u001b[39;00m \u001b[38;5;21;01me\u001b[39;00m\n",
      "\u001b[0;31mTypeError\u001b[0m: actor_fn() takes 1 positional argument but 2 were given"
     ]
    }
   ],
   "source": [
    "def mlp(x, sizes, activation=jax.nn.relu, output_activation=None):\n",
    "    layers = []\n",
    "    for size in sizes[:-1]:\n",
    "        layers.append(hk.Linear(size))\n",
    "        layers.append(activation)\n",
    "    layers.append(hk.Linear(sizes[-1]))\n",
    "    if output_activation is not None:\n",
    "        layers.append(output_activation)\n",
    "    return hk.Sequential(layers)(x)\n",
    "\n",
    "def actor_fn(x):\n",
    "    return mlp(x, [64, 64, 10], jax.nn.relu, jax.nn.softmax)\n",
    "\n",
    "def critic_fn(x):\n",
    "    return mlp(x, [64, 64, 1], jax.nn.relu, None)\n",
    "\n",
    "# Transform the function into Haiku modules\n",
    "actor = hk.transform(actor_fn)\n",
    "critic = hk.transform(critic_fn)\n",
    "\n",
    "# Example usage\n",
    "rng = jax.random.PRNGKey(42)\n",
    "x = jnp.array([1.0, 2.0, 3.0])  # Example input\n",
    "\n",
    "# Initialize parameters for actor and critic\n",
    "actor_params = actor.init(rng, x)\n",
    "critic_params = critic.init(rng, x)\n",
    "\n",
    "# Forward pass\n",
    "actor_output = actor.apply(actor_params, None, rng, x)\n",
    "critic_output = critic.apply(critic_params, None, rng, x)\n",
    "\n",
    "print(\"Actor output:\", actor_output)\n",
    "print(\"Critic output:\", critic_output)\n"
   ]
  },
  {
   "cell_type": "code",
   "execution_count": 19,
   "metadata": {},
   "outputs": [],
   "source": [
    "class ActorCritic:\n",
    "    def __init__(self, observation_space, action_space, hidden_sizes=(64, 64), seed=0):\n",
    "        self.key = jax.random.PRNGKey(seed)\n",
    "        self.actor_key, self.critic_key = jax.random.split(self.key)\n",
    "        \n",
    "        # Initialize the networks\n",
    "        dummy_input = jnp.zeros(observation_space.shape[0])\n",
    "        self.actor_params = actor.init(self.actor_key, dummy_input)\n",
    "        self.critic_params = critic.init(self.critic_key, dummy_input)\n",
    "        \n",
    "    def actor(self, params, x):\n",
    "        return actor.apply(params, None, self.actor_key, x)  # Updated\n",
    "\n",
    "    def critic(self, params, x):\n",
    "        return critic.apply(params, None, self.critic_key, x)  # Updated\n"
   ]
  },
  {
   "cell_type": "code",
   "execution_count": 20,
   "metadata": {},
   "outputs": [],
   "source": [
    "def train(env_name='CartPole-v1', epochs=50, steps_per_epoch=4000, gamma=0.99, clip_ratio=0.2, pi_lr=3e-4, vf_lr=1e-3):\n",
    "    env = gym.make(env_name)\n",
    "    obs_dim = env.observation_space.shape[0]\n",
    "    act_dim = env.action_space.n\n",
    "    \n",
    "    ac = ActorCritic(env.observation_space, env.action_space)\n",
    "    \n",
    "    opt_pi = optax.adam(pi_lr)\n",
    "    opt_vf = optax.adam(vf_lr)\n",
    "    \n",
    "    opt_pi_state = opt_pi.init(ac.actor_params)\n",
    "    opt_vf_state = opt_vf.init(ac.critic_params)\n",
    "    \n",
    "    for epoch in range(epochs):\n",
    "        obs = env.reset()\n",
    "        obs_buffer, act_buffer, rew_buffer, val_buffer, logp_buffer = [], [], [], [], []\n",
    "        ep_ret, ep_len = 0, 0\n",
    "        \n",
    "        for t in range(steps_per_epoch):\n",
    "            pi = ac.actor(ac.actor_params, obs)\n",
    "            action = np.random.choice(act_dim, p=np.array(pi))\n",
    "            value = ac.critic(ac.critic_params, obs)\n",
    "            logp = jnp.log(pi[action])\n",
    "            \n",
    "            obs_buffer.append(obs)\n",
    "            act_buffer.append(action)\n",
    "            rew_buffer.append(reward)\n",
    "            val_buffer.append(value)\n",
    "            logp_buffer.append(logp)\n",
    "            \n",
    "            obs, reward, done, _ = env.step(action)\n",
    "            ep_ret += reward\n",
    "            ep_len += 1\n",
    "            \n",
    "            if done or (t == steps_per_epoch - 1):\n",
    "                last_val = reward if done else ac.critic(ac.critic_params, obs)\n",
    "                rew_to_go = last_val\n",
    "                \n",
    "                returns = []\n",
    "                for r in rew_buffer[::-1]:\n",
    "                    rew_to_go = r + gamma * rew_to_go\n",
    "                    returns.insert(0, rew_to_go)\n",
    "                \n",
    "                returns = jnp.array(returns)\n",
    "                obs_buffer = jnp.array(obs_buffer)\n",
    "                act_buffer = jnp.array(act_buffer)\n",
    "                logp_buffer = jnp.array(logp_buffer)\n",
    "                advantages = returns - jnp.array(val_buffer)\n",
    "                \n",
    "                opt_pi_state, ac.actor_params = opt_pi.update(grad(ppo_loss)(ac.actor_params, ac.critic_params, obs_buffer, act_buffer, advantages, logp_buffer, returns, clip_ratio), ac.actor_params)\n",
    "                opt_vf_state, ac.critic_params = opt_vf.update(grad(ppo_loss)(ac.actor_params, ac.critic_params, obs_buffer, act_buffer, advantages, logp_buffer, returns, clip_ratio), ac.critic_params)\n",
    "                \n",
    "                obs, ep_ret, ep_len = env.reset(), 0, 0\n",
    "                obs_buffer, act_buffer, rew_buffer, val_buffer, logp_buffer = [], [], [], [], []\n",
    "                \n",
    "        print(f'Epoch {epoch+1}/{epochs}: Reward = {ep_ret}')\n"
   ]
  },
  {
   "cell_type": "code",
   "execution_count": 21,
   "metadata": {},
   "outputs": [
    {
     "ename": "TypeError",
     "evalue": "actor_fn() takes 1 positional argument but 2 were given",
     "output_type": "error",
     "traceback": [
      "\u001b[0;31m---------------------------------------------------------------------------\u001b[0m",
      "\u001b[0;31mTypeError\u001b[0m                                 Traceback (most recent call last)",
      "Cell \u001b[0;32mIn[21], line 1\u001b[0m\n\u001b[0;32m----> 1\u001b[0m \u001b[43mtrain\u001b[49m\u001b[43m(\u001b[49m\u001b[43m)\u001b[49m\n",
      "Cell \u001b[0;32mIn[20], line 20\u001b[0m, in \u001b[0;36mtrain\u001b[0;34m(env_name, epochs, steps_per_epoch, gamma, clip_ratio, pi_lr, vf_lr)\u001b[0m\n\u001b[1;32m     17\u001b[0m ep_ret, ep_len \u001b[38;5;241m=\u001b[39m \u001b[38;5;241m0\u001b[39m, \u001b[38;5;241m0\u001b[39m\n\u001b[1;32m     19\u001b[0m \u001b[38;5;28;01mfor\u001b[39;00m t \u001b[38;5;129;01min\u001b[39;00m \u001b[38;5;28mrange\u001b[39m(steps_per_epoch):\n\u001b[0;32m---> 20\u001b[0m     pi \u001b[38;5;241m=\u001b[39m \u001b[43mac\u001b[49m\u001b[38;5;241;43m.\u001b[39;49m\u001b[43mactor\u001b[49m\u001b[43m(\u001b[49m\u001b[43mac\u001b[49m\u001b[38;5;241;43m.\u001b[39;49m\u001b[43mactor_params\u001b[49m\u001b[43m,\u001b[49m\u001b[43m \u001b[49m\u001b[43mobs\u001b[49m\u001b[43m)\u001b[49m\n\u001b[1;32m     21\u001b[0m     action \u001b[38;5;241m=\u001b[39m np\u001b[38;5;241m.\u001b[39mrandom\u001b[38;5;241m.\u001b[39mchoice(act_dim, p\u001b[38;5;241m=\u001b[39mnp\u001b[38;5;241m.\u001b[39marray(pi))\n\u001b[1;32m     22\u001b[0m     value \u001b[38;5;241m=\u001b[39m ac\u001b[38;5;241m.\u001b[39mcritic(ac\u001b[38;5;241m.\u001b[39mcritic_params, obs)\n",
      "Cell \u001b[0;32mIn[19], line 12\u001b[0m, in \u001b[0;36mActorCritic.actor\u001b[0;34m(self, params, x)\u001b[0m\n\u001b[1;32m     11\u001b[0m \u001b[38;5;28;01mdef\u001b[39;00m \u001b[38;5;21mactor\u001b[39m(\u001b[38;5;28mself\u001b[39m, params, x):\n\u001b[0;32m---> 12\u001b[0m     \u001b[38;5;28;01mreturn\u001b[39;00m \u001b[43mactor\u001b[49m\u001b[38;5;241;43m.\u001b[39;49m\u001b[43mapply\u001b[49m\u001b[43m(\u001b[49m\u001b[43mparams\u001b[49m\u001b[43m,\u001b[49m\u001b[43m \u001b[49m\u001b[38;5;28;43;01mNone\u001b[39;49;00m\u001b[43m,\u001b[49m\u001b[43m \u001b[49m\u001b[38;5;28;43mself\u001b[39;49m\u001b[38;5;241;43m.\u001b[39;49m\u001b[43mactor_key\u001b[49m\u001b[43m,\u001b[49m\u001b[43m \u001b[49m\u001b[43mx\u001b[49m\u001b[43m)\u001b[49m\n",
      "File \u001b[0;32m~/Library/Python/3.9/lib/python/site-packages/haiku/_src/transform.py:183\u001b[0m, in \u001b[0;36mwithout_state.<locals>.apply_fn\u001b[0;34m(params, *args, **kwargs)\u001b[0m\n\u001b[1;32m    176\u001b[0m \u001b[38;5;28;01mif\u001b[39;00m \u001b[38;5;124m\"\u001b[39m\u001b[38;5;124mstate\u001b[39m\u001b[38;5;124m\"\u001b[39m \u001b[38;5;129;01min\u001b[39;00m kwargs:\n\u001b[1;32m    177\u001b[0m   \u001b[38;5;28;01mraise\u001b[39;00m \u001b[38;5;167;01mTypeError\u001b[39;00m(\n\u001b[1;32m    178\u001b[0m       \u001b[38;5;124m\"\u001b[39m\u001b[38;5;124mHaiku transform adds three arguments (params, state, rng) to apply. \u001b[39m\u001b[38;5;124m\"\u001b[39m\n\u001b[1;32m    179\u001b[0m       \u001b[38;5;124m\"\u001b[39m\u001b[38;5;124mIf the functions you are transforming use the same names you must \u001b[39m\u001b[38;5;124m\"\u001b[39m\n\u001b[1;32m    180\u001b[0m       \u001b[38;5;124m\"\u001b[39m\u001b[38;5;124mpass them positionally (e.g. `f.apply(.., my_state)` and not by \u001b[39m\u001b[38;5;124m\"\u001b[39m\n\u001b[1;32m    181\u001b[0m       \u001b[38;5;124m\"\u001b[39m\u001b[38;5;124mname (e.g. `f.apply(.., state=my_state)`)\u001b[39m\u001b[38;5;124m\"\u001b[39m)\n\u001b[0;32m--> 183\u001b[0m out, state \u001b[38;5;241m=\u001b[39m \u001b[43mf\u001b[49m\u001b[38;5;241;43m.\u001b[39;49m\u001b[43mapply\u001b[49m\u001b[43m(\u001b[49m\u001b[43mparams\u001b[49m\u001b[43m,\u001b[49m\u001b[43m \u001b[49m\u001b[38;5;28;43;01mNone\u001b[39;49;00m\u001b[43m,\u001b[49m\u001b[43m \u001b[49m\u001b[38;5;241;43m*\u001b[39;49m\u001b[43margs\u001b[49m\u001b[43m,\u001b[49m\u001b[43m \u001b[49m\u001b[38;5;241;43m*\u001b[39;49m\u001b[38;5;241;43m*\u001b[39;49m\u001b[43mkwargs\u001b[49m\u001b[43m)\u001b[49m\n\u001b[1;32m    184\u001b[0m \u001b[38;5;28;01mif\u001b[39;00m state:\n\u001b[1;32m    185\u001b[0m   \u001b[38;5;28;01mraise\u001b[39;00m base\u001b[38;5;241m.\u001b[39mNonEmptyStateError(\n\u001b[1;32m    186\u001b[0m       \u001b[38;5;124m\"\u001b[39m\u001b[38;5;124mIf your transformed function uses `hk.\u001b[39m\u001b[38;5;124m{\u001b[39m\u001b[38;5;124mget,set}_state` then use \u001b[39m\u001b[38;5;124m\"\u001b[39m\n\u001b[1;32m    187\u001b[0m       \u001b[38;5;124m\"\u001b[39m\u001b[38;5;124m`hk.transform_with_state`.\u001b[39m\u001b[38;5;124m\"\u001b[39m)\n",
      "File \u001b[0;32m~/Library/Python/3.9/lib/python/site-packages/haiku/_src/transform.py:456\u001b[0m, in \u001b[0;36mtransform_with_state.<locals>.apply_fn\u001b[0;34m(params, state, rng, *args, **kwargs)\u001b[0m\n\u001b[1;32m    454\u001b[0m \u001b[38;5;28;01mwith\u001b[39;00m base\u001b[38;5;241m.\u001b[39mnew_context(params\u001b[38;5;241m=\u001b[39mparams, state\u001b[38;5;241m=\u001b[39mstate, rng\u001b[38;5;241m=\u001b[39mrng) \u001b[38;5;28;01mas\u001b[39;00m ctx:\n\u001b[1;32m    455\u001b[0m   \u001b[38;5;28;01mtry\u001b[39;00m:\n\u001b[0;32m--> 456\u001b[0m     out \u001b[38;5;241m=\u001b[39m \u001b[43mf\u001b[49m\u001b[43m(\u001b[49m\u001b[38;5;241;43m*\u001b[39;49m\u001b[43margs\u001b[49m\u001b[43m,\u001b[49m\u001b[43m \u001b[49m\u001b[38;5;241;43m*\u001b[39;49m\u001b[38;5;241;43m*\u001b[39;49m\u001b[43mkwargs\u001b[49m\u001b[43m)\u001b[49m\n\u001b[1;32m    457\u001b[0m   \u001b[38;5;28;01mexcept\u001b[39;00m jax\u001b[38;5;241m.\u001b[39merrors\u001b[38;5;241m.\u001b[39mUnexpectedTracerError \u001b[38;5;28;01mas\u001b[39;00m e:\n\u001b[1;32m    458\u001b[0m     \u001b[38;5;28;01mraise\u001b[39;00m jax\u001b[38;5;241m.\u001b[39merrors\u001b[38;5;241m.\u001b[39mUnexpectedTracerError(unexpected_tracer_hint) \u001b[38;5;28;01mfrom\u001b[39;00m \u001b[38;5;21;01me\u001b[39;00m\n",
      "\u001b[0;31mTypeError\u001b[0m: actor_fn() takes 1 positional argument but 2 were given"
     ]
    }
   ],
   "source": [
    "train()"
   ]
  },
  {
   "cell_type": "code",
   "execution_count": null,
   "metadata": {},
   "outputs": [],
   "source": []
  }
 ],
 "metadata": {
  "kernelspec": {
   "display_name": "Python 3",
   "language": "python",
   "name": "python3"
  },
  "language_info": {
   "codemirror_mode": {
    "name": "ipython",
    "version": 3
   },
   "file_extension": ".py",
   "mimetype": "text/x-python",
   "name": "python",
   "nbconvert_exporter": "python",
   "pygments_lexer": "ipython3",
   "version": "3.9.6"
  }
 },
 "nbformat": 4,
 "nbformat_minor": 2
}
